{
 "cells": [
  {
   "cell_type": "code",
   "execution_count": 1,
   "id": "5230b424-0cd7-4a35-b406-ac6fda52ecc5",
   "metadata": {},
   "outputs": [],
   "source": [
    "import pandas as pd\n",
    "import numpy as np\n",
    "import os\n",
    "import matplotlib.pyplot as plt\n",
    "import seaborn as sns\n",
    "import warnings\n",
    "warnings.filterwarnings('ignore')"
   ]
  },
  {
   "cell_type": "code",
   "execution_count": 64,
   "id": "09fc2d66-bd4a-4f35-a2cd-d3b15c23abe6",
   "metadata": {},
   "outputs": [
    {
     "name": "stdout",
     "output_type": "stream",
     "text": [
      "Successfully combined the files! Here's a preview of the combined data:\n",
      "  COMMODITY      COUNTRY UNIT  QUANTITY  VALUE(US$ million)     Year\n",
      "0       TEA  AFGHANISTAN  KGS  996994.0                2.88  2017-18\n",
      "1       TEA      ALBANIA  KGS  250065.0                0.82  2017-18\n",
      "2       TEA      ALGERIA  KGS  109640.0                0.21  2017-18\n",
      "3       TEA      ANDORRA  KGS   32692.0                0.15  2017-18\n",
      "4       TEA       ANGOLA  KGS   11361.0                0.07  2017-18\n",
      "\n",
      "The combined data has been saved to 'combined_export_data.csv'\n"
     ]
    }
   ],
   "source": [
    "\n",
    "\n",
    "# List of file names and their corresponding years\n",
    "files_and_years = {\n",
    "    'Principal_Commodity_wise_export_201718.csv': '2017-18',\n",
    "    'Principal_Commodity_wise_export_201819.csv': '2018-19',\n",
    "    'Principal_Commodity_wise_export_201920.csv': '2019-20',\n",
    "    'Principal_Commodity_wise_export_202122.csv': '2021-22',\n",
    "    'Principal_Commodity_wise_export_202223.csv': '2022-23'\n",
    "}\n",
    "\n",
    "# Create a list to hold the individual dataframes\n",
    "dfs = []\n",
    "\n",
    "# Loop through the files, add a 'Year' column, and append to the list\n",
    "for file, year in files_and_years.items():\n",
    "    try:\n",
    "        df = pd.read_csv(file)\n",
    "        df['Year'] = year\n",
    "        dfs.append(df)\n",
    "    except FileNotFoundError:\n",
    "        print(f\"Warning: File '{file}' not found. Skipping.\")\n",
    "    except Exception as e:\n",
    "        print(f\"An error occurred while processing {file}: {e}\")\n",
    "\n",
    "\n",
    "# Concatenate all dataframes in the list into a single dataframe\n",
    "if dfs:\n",
    "    combined_df = pd.concat(dfs, ignore_index=True)\n",
    "\n",
    "    # Display the first few rows of the combined dataframe\n",
    "    print(\"Successfully combined the files! Here's a preview of the combined data:\")\n",
    "    print(combined_df.head())\n",
    "\n",
    "    # Save the combined dataframe to a new CSV file\n",
    "    combined_df.to_csv('combined_export_data.csv', index=False)\n",
    "    print(\"\\nThe combined data has been saved to 'combined_export_data.csv'\")\n",
    "else:\n",
    "    print(\"No dataframes were created. Please check the file paths and try again.\")\n"
   ]
  },
  {
   "cell_type": "code",
   "execution_count": 3,
   "id": "aa4ee057-f5f6-40d1-bd3a-024290f6c423",
   "metadata": {},
   "outputs": [
    {
     "data": {
      "text/html": [
       "<div>\n",
       "<style scoped>\n",
       "    .dataframe tbody tr th:only-of-type {\n",
       "        vertical-align: middle;\n",
       "    }\n",
       "\n",
       "    .dataframe tbody tr th {\n",
       "        vertical-align: top;\n",
       "    }\n",
       "\n",
       "    .dataframe thead th {\n",
       "        text-align: right;\n",
       "    }\n",
       "</style>\n",
       "<table border=\"1\" class=\"dataframe\">\n",
       "  <thead>\n",
       "    <tr style=\"text-align: right;\">\n",
       "      <th></th>\n",
       "      <th>COMMODITY</th>\n",
       "      <th>COUNTRY</th>\n",
       "      <th>UNIT</th>\n",
       "      <th>QUANTITY</th>\n",
       "      <th>VALUE(US$ million)</th>\n",
       "      <th>Year</th>\n",
       "    </tr>\n",
       "  </thead>\n",
       "  <tbody>\n",
       "    <tr>\n",
       "      <th>0</th>\n",
       "      <td>TEA</td>\n",
       "      <td>AFGHANISTAN</td>\n",
       "      <td>KGS</td>\n",
       "      <td>996994.0</td>\n",
       "      <td>2.88</td>\n",
       "      <td>2017-18</td>\n",
       "    </tr>\n",
       "    <tr>\n",
       "      <th>1</th>\n",
       "      <td>TEA</td>\n",
       "      <td>ALBANIA</td>\n",
       "      <td>KGS</td>\n",
       "      <td>250065.0</td>\n",
       "      <td>0.82</td>\n",
       "      <td>2017-18</td>\n",
       "    </tr>\n",
       "    <tr>\n",
       "      <th>2</th>\n",
       "      <td>TEA</td>\n",
       "      <td>ALGERIA</td>\n",
       "      <td>KGS</td>\n",
       "      <td>109640.0</td>\n",
       "      <td>0.21</td>\n",
       "      <td>2017-18</td>\n",
       "    </tr>\n",
       "    <tr>\n",
       "      <th>3</th>\n",
       "      <td>TEA</td>\n",
       "      <td>ANDORRA</td>\n",
       "      <td>KGS</td>\n",
       "      <td>32692.0</td>\n",
       "      <td>0.15</td>\n",
       "      <td>2017-18</td>\n",
       "    </tr>\n",
       "    <tr>\n",
       "      <th>4</th>\n",
       "      <td>TEA</td>\n",
       "      <td>ANGOLA</td>\n",
       "      <td>KGS</td>\n",
       "      <td>11361.0</td>\n",
       "      <td>0.07</td>\n",
       "      <td>2017-18</td>\n",
       "    </tr>\n",
       "  </tbody>\n",
       "</table>\n",
       "</div>"
      ],
      "text/plain": [
       "  COMMODITY      COUNTRY UNIT  QUANTITY  VALUE(US$ million)     Year\n",
       "0       TEA  AFGHANISTAN  KGS  996994.0                2.88  2017-18\n",
       "1       TEA      ALBANIA  KGS  250065.0                0.82  2017-18\n",
       "2       TEA      ALGERIA  KGS  109640.0                0.21  2017-18\n",
       "3       TEA      ANDORRA  KGS   32692.0                0.15  2017-18\n",
       "4       TEA       ANGOLA  KGS   11361.0                0.07  2017-18"
      ]
     },
     "execution_count": 3,
     "metadata": {},
     "output_type": "execute_result"
    }
   ],
   "source": [
    "df = pd.read_csv('combined_export_data.csv')\n",
    "df.head()"
   ]
  },
  {
   "cell_type": "code",
   "execution_count": 4,
   "id": "71bddabb-26d1-4961-a96f-c74798d98e1f",
   "metadata": {},
   "outputs": [
    {
     "data": {
      "text/plain": [
       "(114055, 6)"
      ]
     },
     "execution_count": 4,
     "metadata": {},
     "output_type": "execute_result"
    }
   ],
   "source": [
    "df.shape"
   ]
  },
  {
   "cell_type": "code",
   "execution_count": 5,
   "id": "6b9c1bd9-a8b9-4b0e-8e32-a0b87b02abb7",
   "metadata": {},
   "outputs": [
    {
     "data": {
      "text/html": [
       "<div>\n",
       "<style scoped>\n",
       "    .dataframe tbody tr th:only-of-type {\n",
       "        vertical-align: middle;\n",
       "    }\n",
       "\n",
       "    .dataframe tbody tr th {\n",
       "        vertical-align: top;\n",
       "    }\n",
       "\n",
       "    .dataframe thead th {\n",
       "        text-align: right;\n",
       "    }\n",
       "</style>\n",
       "<table border=\"1\" class=\"dataframe\">\n",
       "  <thead>\n",
       "    <tr style=\"text-align: right;\">\n",
       "      <th></th>\n",
       "      <th>Commodity</th>\n",
       "      <th>Country</th>\n",
       "      <th>Unit</th>\n",
       "      <th>Quantity</th>\n",
       "      <th>Value_USD_Million</th>\n",
       "      <th>Fiscal_Year</th>\n",
       "    </tr>\n",
       "  </thead>\n",
       "  <tbody>\n",
       "    <tr>\n",
       "      <th>0</th>\n",
       "      <td>TEA</td>\n",
       "      <td>AFGHANISTAN</td>\n",
       "      <td>KGS</td>\n",
       "      <td>996994.0</td>\n",
       "      <td>2.88</td>\n",
       "      <td>2017-18</td>\n",
       "    </tr>\n",
       "    <tr>\n",
       "      <th>1</th>\n",
       "      <td>TEA</td>\n",
       "      <td>ALBANIA</td>\n",
       "      <td>KGS</td>\n",
       "      <td>250065.0</td>\n",
       "      <td>0.82</td>\n",
       "      <td>2017-18</td>\n",
       "    </tr>\n",
       "    <tr>\n",
       "      <th>2</th>\n",
       "      <td>TEA</td>\n",
       "      <td>ALGERIA</td>\n",
       "      <td>KGS</td>\n",
       "      <td>109640.0</td>\n",
       "      <td>0.21</td>\n",
       "      <td>2017-18</td>\n",
       "    </tr>\n",
       "    <tr>\n",
       "      <th>3</th>\n",
       "      <td>TEA</td>\n",
       "      <td>ANDORRA</td>\n",
       "      <td>KGS</td>\n",
       "      <td>32692.0</td>\n",
       "      <td>0.15</td>\n",
       "      <td>2017-18</td>\n",
       "    </tr>\n",
       "    <tr>\n",
       "      <th>4</th>\n",
       "      <td>TEA</td>\n",
       "      <td>ANGOLA</td>\n",
       "      <td>KGS</td>\n",
       "      <td>11361.0</td>\n",
       "      <td>0.07</td>\n",
       "      <td>2017-18</td>\n",
       "    </tr>\n",
       "  </tbody>\n",
       "</table>\n",
       "</div>"
      ],
      "text/plain": [
       "  Commodity      Country Unit  Quantity  Value_USD_Million Fiscal_Year\n",
       "0       TEA  AFGHANISTAN  KGS  996994.0               2.88     2017-18\n",
       "1       TEA      ALBANIA  KGS  250065.0               0.82     2017-18\n",
       "2       TEA      ALGERIA  KGS  109640.0               0.21     2017-18\n",
       "3       TEA      ANDORRA  KGS   32692.0               0.15     2017-18\n",
       "4       TEA       ANGOLA  KGS   11361.0               0.07     2017-18"
      ]
     },
     "execution_count": 5,
     "metadata": {},
     "output_type": "execute_result"
    }
   ],
   "source": [
    "#Changing the column names for conviniance \n",
    "new_names = ['Commodity', 'Country', 'Unit', 'Quantity', 'Value_USD_Million', 'Fiscal_Year']\n",
    "df.columns = new_names\n",
    "df.head()"
   ]
  },
  {
   "cell_type": "code",
   "execution_count": 6,
   "id": "6f63305c-abe9-4ce6-9e57-004cab81369f",
   "metadata": {},
   "outputs": [
    {
     "name": "stdout",
     "output_type": "stream",
     "text": [
      "<class 'pandas.core.frame.DataFrame'>\n",
      "RangeIndex: 114055 entries, 0 to 114054\n",
      "Data columns (total 6 columns):\n",
      " #   Column             Non-Null Count   Dtype  \n",
      "---  ------             --------------   -----  \n",
      " 0   Commodity          114055 non-null  object \n",
      " 1   Country            114050 non-null  object \n",
      " 2   Unit               67751 non-null   object \n",
      " 3   Quantity           67784 non-null   float64\n",
      " 4   Value_USD_Million  114055 non-null  float64\n",
      " 5   Fiscal_Year        114055 non-null  object \n",
      "dtypes: float64(2), object(4)\n",
      "memory usage: 5.2+ MB\n"
     ]
    }
   ],
   "source": [
    "#General information about data\n",
    "df.info()"
   ]
  },
  {
   "cell_type": "code",
   "execution_count": 7,
   "id": "2c11c70c-4bd2-4cbb-bb2d-8712f86646c4",
   "metadata": {},
   "outputs": [
    {
     "data": {
      "text/html": [
       "<div>\n",
       "<style scoped>\n",
       "    .dataframe tbody tr th:only-of-type {\n",
       "        vertical-align: middle;\n",
       "    }\n",
       "\n",
       "    .dataframe tbody tr th {\n",
       "        vertical-align: top;\n",
       "    }\n",
       "\n",
       "    .dataframe thead th {\n",
       "        text-align: right;\n",
       "    }\n",
       "</style>\n",
       "<table border=\"1\" class=\"dataframe\">\n",
       "  <thead>\n",
       "    <tr style=\"text-align: right;\">\n",
       "      <th></th>\n",
       "      <th>Quantity</th>\n",
       "      <th>Value_USD_Million</th>\n",
       "    </tr>\n",
       "  </thead>\n",
       "  <tbody>\n",
       "    <tr>\n",
       "      <th>count</th>\n",
       "      <td>6.778400e+04</td>\n",
       "      <td>114055.000000</td>\n",
       "    </tr>\n",
       "    <tr>\n",
       "      <th>mean</th>\n",
       "      <td>8.378745e+06</td>\n",
       "      <td>31.915085</td>\n",
       "    </tr>\n",
       "    <tr>\n",
       "      <th>std</th>\n",
       "      <td>4.811548e+08</td>\n",
       "      <td>2448.060409</td>\n",
       "    </tr>\n",
       "    <tr>\n",
       "      <th>min</th>\n",
       "      <td>0.000000e+00</td>\n",
       "      <td>0.000000</td>\n",
       "    </tr>\n",
       "    <tr>\n",
       "      <th>25%</th>\n",
       "      <td>9.800000e+01</td>\n",
       "      <td>0.015000</td>\n",
       "    </tr>\n",
       "    <tr>\n",
       "      <th>50%</th>\n",
       "      <td>6.727000e+03</td>\n",
       "      <td>0.265000</td>\n",
       "    </tr>\n",
       "    <tr>\n",
       "      <th>75%</th>\n",
       "      <td>2.339732e+05</td>\n",
       "      <td>2.820000</td>\n",
       "    </tr>\n",
       "    <tr>\n",
       "      <th>max</th>\n",
       "      <td>8.872187e+10</td>\n",
       "      <td>451070.000000</td>\n",
       "    </tr>\n",
       "  </tbody>\n",
       "</table>\n",
       "</div>"
      ],
      "text/plain": [
       "           Quantity  Value_USD_Million\n",
       "count  6.778400e+04      114055.000000\n",
       "mean   8.378745e+06          31.915085\n",
       "std    4.811548e+08        2448.060409\n",
       "min    0.000000e+00           0.000000\n",
       "25%    9.800000e+01           0.015000\n",
       "50%    6.727000e+03           0.265000\n",
       "75%    2.339732e+05           2.820000\n",
       "max    8.872187e+10      451070.000000"
      ]
     },
     "execution_count": 7,
     "metadata": {},
     "output_type": "execute_result"
    }
   ],
   "source": [
    "#Statistical summary of numeric columns\n",
    "df.describe()"
   ]
  },
  {
   "cell_type": "markdown",
   "id": "1bcd81cc-4bb8-45ac-98d2-bb0be011dd05",
   "metadata": {},
   "source": [
    "### New dataframe containing all the records having atleast one null value across the columns"
   ]
  },
  {
   "cell_type": "code",
   "execution_count": 9,
   "id": "bc78bdb7-2f68-4280-8f88-5cf0db73a290",
   "metadata": {},
   "outputs": [],
   "source": [
    "df_null = df[df.isnull().any(axis=1)]"
   ]
  },
  {
   "cell_type": "code",
   "execution_count": 10,
   "id": "c610b708-d057-40f9-8af1-70a0616c3423",
   "metadata": {},
   "outputs": [
    {
     "data": {
      "text/html": [
       "<div>\n",
       "<style scoped>\n",
       "    .dataframe tbody tr th:only-of-type {\n",
       "        vertical-align: middle;\n",
       "    }\n",
       "\n",
       "    .dataframe tbody tr th {\n",
       "        vertical-align: top;\n",
       "    }\n",
       "\n",
       "    .dataframe thead th {\n",
       "        text-align: right;\n",
       "    }\n",
       "</style>\n",
       "<table border=\"1\" class=\"dataframe\">\n",
       "  <thead>\n",
       "    <tr style=\"text-align: right;\">\n",
       "      <th></th>\n",
       "      <th>Commodity</th>\n",
       "      <th>Country</th>\n",
       "      <th>Unit</th>\n",
       "      <th>Quantity</th>\n",
       "      <th>Value_USD_Million</th>\n",
       "      <th>Fiscal_Year</th>\n",
       "    </tr>\n",
       "  </thead>\n",
       "  <tbody>\n",
       "    <tr>\n",
       "      <th>907</th>\n",
       "      <td>TOBACCO MANUFACTURED</td>\n",
       "      <td>AFGHANISTAN</td>\n",
       "      <td>N .A</td>\n",
       "      <td>NaN</td>\n",
       "      <td>56.54</td>\n",
       "      <td>2017-18</td>\n",
       "    </tr>\n",
       "    <tr>\n",
       "      <th>908</th>\n",
       "      <td>TOBACCO MANUFACTURED</td>\n",
       "      <td>ALBANIA</td>\n",
       "      <td>N .A</td>\n",
       "      <td>NaN</td>\n",
       "      <td>0.57</td>\n",
       "      <td>2017-18</td>\n",
       "    </tr>\n",
       "    <tr>\n",
       "      <th>909</th>\n",
       "      <td>TOBACCO MANUFACTURED</td>\n",
       "      <td>ANGOLA</td>\n",
       "      <td>N .A</td>\n",
       "      <td>NaN</td>\n",
       "      <td>0.00</td>\n",
       "      <td>2017-18</td>\n",
       "    </tr>\n",
       "    <tr>\n",
       "      <th>910</th>\n",
       "      <td>TOBACCO MANUFACTURED</td>\n",
       "      <td>ARGENTINA</td>\n",
       "      <td>N .A</td>\n",
       "      <td>NaN</td>\n",
       "      <td>0.02</td>\n",
       "      <td>2017-18</td>\n",
       "    </tr>\n",
       "    <tr>\n",
       "      <th>911</th>\n",
       "      <td>TOBACCO MANUFACTURED</td>\n",
       "      <td>ARUBA</td>\n",
       "      <td>N .A</td>\n",
       "      <td>NaN</td>\n",
       "      <td>0.09</td>\n",
       "      <td>2017-18</td>\n",
       "    </tr>\n",
       "    <tr>\n",
       "      <th>...</th>\n",
       "      <td>...</td>\n",
       "      <td>...</td>\n",
       "      <td>...</td>\n",
       "      <td>...</td>\n",
       "      <td>...</td>\n",
       "      <td>...</td>\n",
       "    </tr>\n",
       "    <tr>\n",
       "      <th>114038</th>\n",
       "      <td>WOLLEN YARN,FABRICS,MADEUPSETC                ...</td>\n",
       "      <td>VIETNAM SOC REP</td>\n",
       "      <td>NaN</td>\n",
       "      <td>NaN</td>\n",
       "      <td>4.01</td>\n",
       "      <td>2022-23</td>\n",
       "    </tr>\n",
       "    <tr>\n",
       "      <th>114039</th>\n",
       "      <td>WOLLEN YARN,FABRICS,MADEUPSETC                ...</td>\n",
       "      <td>YEMEN REPUBLC</td>\n",
       "      <td>NaN</td>\n",
       "      <td>NaN</td>\n",
       "      <td>0.35</td>\n",
       "      <td>2022-23</td>\n",
       "    </tr>\n",
       "    <tr>\n",
       "      <th>114040</th>\n",
       "      <td>WOLLEN YARN,FABRICS,MADEUPSETC                ...</td>\n",
       "      <td>ZAMBIA</td>\n",
       "      <td>NaN</td>\n",
       "      <td>NaN</td>\n",
       "      <td>0.00</td>\n",
       "      <td>2022-23</td>\n",
       "    </tr>\n",
       "    <tr>\n",
       "      <th>114041</th>\n",
       "      <td>WOLLEN YARN,FABRICS,MADEUPSETC                ...</td>\n",
       "      <td>ZIMBABWE</td>\n",
       "      <td>NaN</td>\n",
       "      <td>NaN</td>\n",
       "      <td>0.00</td>\n",
       "      <td>2022-23</td>\n",
       "    </tr>\n",
       "    <tr>\n",
       "      <th>114054</th>\n",
       "      <td>TOTAL</td>\n",
       "      <td>NaN</td>\n",
       "      <td>NaN</td>\n",
       "      <td>8.204211e+10</td>\n",
       "      <td>451070.00</td>\n",
       "      <td>2022-23</td>\n",
       "    </tr>\n",
       "  </tbody>\n",
       "</table>\n",
       "<p>57781 rows × 6 columns</p>\n",
       "</div>"
      ],
      "text/plain": [
       "                                                Commodity          Country  \\\n",
       "907                                  TOBACCO MANUFACTURED      AFGHANISTAN   \n",
       "908                                  TOBACCO MANUFACTURED          ALBANIA   \n",
       "909                                  TOBACCO MANUFACTURED           ANGOLA   \n",
       "910                                  TOBACCO MANUFACTURED        ARGENTINA   \n",
       "911                                  TOBACCO MANUFACTURED            ARUBA   \n",
       "...                                                   ...              ...   \n",
       "114038  WOLLEN YARN,FABRICS,MADEUPSETC                ...  VIETNAM SOC REP   \n",
       "114039  WOLLEN YARN,FABRICS,MADEUPSETC                ...    YEMEN REPUBLC   \n",
       "114040  WOLLEN YARN,FABRICS,MADEUPSETC                ...           ZAMBIA   \n",
       "114041  WOLLEN YARN,FABRICS,MADEUPSETC                ...         ZIMBABWE   \n",
       "114054                                              TOTAL              NaN   \n",
       "\n",
       "        Unit      Quantity  Value_USD_Million Fiscal_Year  \n",
       "907     N .A           NaN              56.54     2017-18  \n",
       "908     N .A           NaN               0.57     2017-18  \n",
       "909     N .A           NaN               0.00     2017-18  \n",
       "910     N .A           NaN               0.02     2017-18  \n",
       "911     N .A           NaN               0.09     2017-18  \n",
       "...      ...           ...                ...         ...  \n",
       "114038   NaN           NaN               4.01     2022-23  \n",
       "114039   NaN           NaN               0.35     2022-23  \n",
       "114040   NaN           NaN               0.00     2022-23  \n",
       "114041   NaN           NaN               0.00     2022-23  \n",
       "114054   NaN  8.204211e+10          451070.00     2022-23  \n",
       "\n",
       "[57781 rows x 6 columns]"
      ]
     },
     "execution_count": 10,
     "metadata": {},
     "output_type": "execute_result"
    }
   ],
   "source": [
    "df_null"
   ]
  },
  {
   "cell_type": "markdown",
   "id": "682d1bdc-a458-4faf-a2fd-a51d18f07708",
   "metadata": {},
   "source": [
    "### Removing the rows with values TOTAL or Total"
   ]
  },
  {
   "cell_type": "code",
   "execution_count": 12,
   "id": "a58fc5a4-54c4-464e-b7f2-df38a1b12017",
   "metadata": {},
   "outputs": [
    {
     "name": "stdout",
     "output_type": "stream",
     "text": [
      "Empty DataFrame\n",
      "Columns: [Commodity, Country, Unit, Quantity, Value_USD_Million, Fiscal_Year]\n",
      "Index: []\n",
      "Empty DataFrame\n",
      "Columns: [Commodity, Country, Unit, Quantity, Value_USD_Million, Fiscal_Year]\n",
      "Index: []\n",
      "Empty DataFrame\n",
      "Columns: [Commodity, Country, Unit, Quantity, Value_USD_Million, Fiscal_Year]\n",
      "Index: []\n"
     ]
    }
   ],
   "source": [
    "df = df[~((df == 'TOTAL') | (df == 'Total')).any(axis=1)]\n",
    "print(df[df['Commodity'] == 'TOTAL'])\n",
    "print(df[df['Commodity'] == 'Total'])\n",
    "print(df[df['Commodity'] == 'total'])"
   ]
  },
  {
   "cell_type": "markdown",
   "id": "e23c76e0-5f03-45d3-b152-87b359d6a154",
   "metadata": {},
   "source": [
    "### Exploring each columns"
   ]
  },
  {
   "cell_type": "code",
   "execution_count": 14,
   "id": "8f49d306-9e64-427d-b868-e58b7ac65299",
   "metadata": {},
   "outputs": [
    {
     "data": {
      "text/plain": [
       "array(['TEA', 'COFFEE', 'RICE -BASMOTI', 'RICE(OTHER THAN BASMOTI)',\n",
       "       'WHEAT', 'OTHER CEREALS', 'PULSES', 'TOBACCO UNMANUFACTURED',\n",
       "       'TOBACCO MANUFACTURED', 'SPICES', 'CASHEW',\n",
       "       'CASHEW NUT SHELL LIQUID', 'SESAME SEEDS', 'NIGER SEEDS',\n",
       "       'GROUNDNUT', 'OTHER OIL SEEDS', 'VEGETABLE OILS', 'OIL MEALS',\n",
       "       'GUERGAM MEAL', 'CASTOR OIL', 'SHELLAC', 'SUGAR', 'MOLLASES',\n",
       "       'FRUITS / VEGETABLE SEEDS', 'FRESH FRUITS', 'FRESH VEGETABLES',\n",
       "       'PROCESSED VEGETABLES', 'PROCESSED FRUITS AND JUICES',\n",
       "       'CEREAL PREPARATIONS', 'COCOA PRODUCTS', 'MILLED PRODUCTS',\n",
       "       'MISC PROCESSED ITEMS', 'ANIMAL CASINGS', 'BUFFALO MEAT',\n",
       "       'SHEEP/GOAT MEAT', 'OTHER MEAT', 'PROCESSED MEAT',\n",
       "       'DAIRY PRODUCTS', 'POULTRY PRODUCTS', 'FLORICLTR PRODUCTS',\n",
       "       'NATURAL RUBBER', 'ALCOHOLIC BEVERAGES', 'MARINE PRODUCTS',\n",
       "       'IRON ORE', 'MICA', 'COAL,COKE AND BRIQUITTES ETC',\n",
       "       'BULK MINERALS AND ORES', 'GRANIT, NATRL STONE AND PRODCT',\n",
       "       'PROCESSED MINERALS', 'SULPHER, UNROASTED IRON PYRITE',\n",
       "       'OTHER CRUDE MINERALS', 'RAW HIDES AND SKINS', 'FINISHED LEATHER',\n",
       "       'LEATHER GOODS', 'LEATHER GARMENTS', 'FOOTWEAR OF LEATHER',\n",
       "       'LEATHER FOOTWEAR COMPONENT', 'SADDLERY AND HARNESS',\n",
       "       'PEARL, PRECS, SEMIPRECS STONES', 'GOLD', 'SILVER',\n",
       "       'OTHER PRECIOUS AND BASE METALS', 'GOLD AND OTH PRECS METL JWLERY',\n",
       "       'SPORTS GOODS', 'FERTILEZERS CRUDE', 'FERTILEZERS MANUFACTURED',\n",
       "       'AYUSH AND HERBAL PRODUCTS', 'BULK DRUGS, DRUG INTERMEDIATES',\n",
       "       'DYE INTERMEDIATES', 'DYES', 'DRUG FORMULATIONS, BIOLOGICALS',\n",
       "       'AGRO CHEMICALS', 'SURGICALS', 'INORGANIC CHEMICALS',\n",
       "       'ORGANIC CHEMICALS', 'OTHER MISCELLAENIOUS CHEMICALS',\n",
       "       'COSMETICS AND TOILETRIES', 'ESSENTIAL OILS',\n",
       "       'RESIDUL CHEMICL AND ALLED PROD', 'AUTO TYRES AND TUBES',\n",
       "       'OTHR RUBBER PRODCT EXCPT FOOTW', 'FOOTWEAR OF RUBBER/CANVAS ETC.',\n",
       "       'PAINT, VARNISH AND ALLID PRODC', 'GRAPHITE, EXPLSIVS AND ACCESOR',\n",
       "       'CMNT, CLINKR AND ASBSTOS CMNT', 'CERAMICS AND ALLIED PRODUCTS',\n",
       "       'GLASS AND GLASSWARE', 'BOOKS, PUBLICATIONS AND PRNTNG',\n",
       "       'NEWSPRINT', 'PAPER, PAPER BOARD AND PRODUCT',\n",
       "       'PLYWOOD AND ALLIED PRODUCTS', 'OTHER WOOD AND WOOD PRODUCTS',\n",
       "       'PULP AND WASTE PAPER', 'OPTICAL ITEMS (INCL.LENS ETC)',\n",
       "       'HUMAN HAIR, PRODUCTS THEREO', 'MOULDED AND EXTRUDED GOODS',\n",
       "       'PACKAGING MATERIALS', 'PLASTIC RAW MATERIALS',\n",
       "       'PLASTC SHT, FILM, PLTS ETC', 'STATIONRY/OFFCE, SCHOOL SUPPLY',\n",
       "       'OTHER PLASTIC ITEMS', 'IRON AND STEEL',\n",
       "       'PRODUCTS OF IRON AND STEEL', 'ALUMINIUM, PRODUCTS OF ALUMINM',\n",
       "       'COPPER AND PRDCTS MADE OF COPR', 'LEAD AND PRODUCTS MADE OF LED',\n",
       "       'NICKEL, PRODUCT MADE OF NICKEL', 'TIN AND PRODUCTS MADE OF TIN',\n",
       "       'ZINC AND PRODUCTS MADE OF ZINC', 'OTH NON FEROUS METAL AND PRODC',\n",
       "       'AUTO COMPONENTS/PARTS', 'ELECTRODES',\n",
       "       'ACCUMULATORS AND BATTERIES', 'HND TOOL, CTTNG TOOL OF METALS',\n",
       "       'MACHINE TOOLS', 'MEDICAL AND SCIENTIFIC INSTRUM',\n",
       "       'OFFICE EQUIPMENTS', 'AC, REFRIGERATION MACHNRY ETC',\n",
       "       'BICYCLE AND PARTS', 'CRANES, LIFTS AND WINCHES',\n",
       "       'ELECTRIC MACHINERY AND EQUIPME', 'IC ENGINES AND PARTS',\n",
       "       'INDL. MACHNRY FOR DAIRY ETC', 'ATM, INJCTNG MLDING MCHNRY ETC',\n",
       "       'NUCLER REACTR, INDL BOILR, PRT', 'OTHER CONSTRUCTION MACHINERY',\n",
       "       'OTHER MISC. ENGINEERING ITEMS', 'PRIME MICA AND MICA PRODUCTS',\n",
       "       'PUMPS OF ALL TYPES', 'AIRCRAFT, SPACECRAFT AND PARTS',\n",
       "       'MOTOR VEHICLE/CARS', 'RAILWY TRNSPRT EQUIPMNTS, PRTS',\n",
       "       'SHIP, BOAT AND FLOATING STRUCT', 'TWO AND THREE WHEELERS',\n",
       "       'COMPUTER HARDWARE, PERIPHERALS', 'CONSUMER ELECTRONICS',\n",
       "       'ELECTRONICS COMPONENTS', 'ELECTRONICS INSTRUMENTS',\n",
       "       'TELECOM INSTRUMENTS', 'PROJECT GOODS', 'MANMADE STAPLE FIBRE',\n",
       "       'COTTON YARN', 'COTTON FABRICS, MADEUPS ETC.',\n",
       "       'OTH TXTL YRN, FBRIC MDUP ARTCL', 'NATRL SILK YARN,FABRICS,MADEUP',\n",
       "       'MANMADE YARN,FABRICS,MADEUPS', 'WOOL, RAW',\n",
       "       'WOLLEN YARN,FABRICS,MADEUPSETC', 'RMG COTTON INCL ACCESSORIES',\n",
       "       'RMG SILK', 'RMG MANMADE FIBRES', 'RMG WOOL',\n",
       "       'RMG OF OTHR TEXTLE MATRL', 'COIR AND COIR MANUFACTURES',\n",
       "       'HANDLOOM PRODUCTS', 'SILK WASTE', 'JUTE, RAW', 'JUTE YARN',\n",
       "       'JUTE HESSIAN', 'FLOOR CVRNG OF JUTE', 'OTHER JUTE MANUFACTURES',\n",
       "       'HANDCRFS(EXCL.HANDMADE CRPTS)', 'CARPET(EXCL. SILK) HANDMADE',\n",
       "       'SILK CARPET', 'COTTON RAW INCLD. WASTE', 'PETROLEUM PRODUCTS',\n",
       "       'OTHER COMMODITIES', 'SILK,RAW',\n",
       "       'TEA                                               ',\n",
       "       'COFFEE                                            ',\n",
       "       'RICE BASMOTI                                      ',\n",
       "       'RICE(OTHER THAN BASMOTI)                          ',\n",
       "       'OTHER CEREALS                                     ',\n",
       "       'TOBACCO MANUFACTURED                              ',\n",
       "       'TOBACCO UNMANUFACTURED                            ',\n",
       "       'SPICES                                            ',\n",
       "       'CASHEW                                            ',\n",
       "       'OIL MEALS                                         ',\n",
       "       'GROUNDNUT                                         ',\n",
       "       'NIGER SEEDS                                       ',\n",
       "       'OTHER OIL SEEDS                                   ',\n",
       "       'SESAME SEEDS                                      ',\n",
       "       'FRESH FRUITS                                      ',\n",
       "       'FRESH VEGETABLES                                  ',\n",
       "       'PROCESSED FRUITS AND JUICES                       ',\n",
       "       'PROCESSED VEGETABLES                              ',\n",
       "       'CEREAL PREPARATIONS                               ',\n",
       "       'COCOA PRODUCTS                                    ',\n",
       "       'MILLED PRODUCTS                                   ',\n",
       "       'MISC PROCESSED ITEMS                              ',\n",
       "       'MARINE PRODUCTS                                   ',\n",
       "       'ANIMAL CASINGS                                    ',\n",
       "       'BUFFALO MEAT                                      ',\n",
       "       'DAIRY PRODUCTS                                    ',\n",
       "       'OTHER MEAT                                        ',\n",
       "       'POULTRY PRODUCTS                                  ',\n",
       "       'PROCESSED MEAT                                    ',\n",
       "       'SHEEP/GOAT MEAT                                   ',\n",
       "       'IRON ORE                                          ',\n",
       "       'BULK MINERALS AND ORES                            ',\n",
       "       'COAL,COKE AND BRIQUITTES ETC                      ',\n",
       "       'GRANIT, NATRL STONE AND PRODCT                    ',\n",
       "       'MICA                                              ',\n",
       "       'OTHER CRUDE MINERALS                              ',\n",
       "       'PROCESSED MINERALS                                ',\n",
       "       'SULPHER, UNROASTED IRON PYRITE                    ',\n",
       "       'FINISHED LEATHER                                  ',\n",
       "       'FOOTWEAR OF LEATHER                               ',\n",
       "       'LEATHER FOOTWEAR COMPONENT                        ',\n",
       "       'LEATHER GARMENTS                                  ',\n",
       "       'LEATHER GOODS                                     ',\n",
       "       'CERAMICS AND ALLIED PRODUCTS                      ',\n",
       "       'GLASS AND GLASSWARE                               ',\n",
       "       'GOLD                                              ',\n",
       "       'GOLD AND OTH PRECS METL JWLERY                    ',\n",
       "       'OTHER PRECIOUS AND BASE METALS                    ',\n",
       "       'PEARL, PRECS, SEMIPRECS STONES                    ',\n",
       "       'SILVER                                            ',\n",
       "       'AYUSH AND HERBAL PRODUCTS                         ',\n",
       "       'BULK DRUGS, DRUG INTERMEDIATES                    ',\n",
       "       'DRUG FORMULATIONS, BIOLOGICALS                    ',\n",
       "       'SURGICALS                                         ',\n",
       "       'AGRO CHEMICALS                                    ',\n",
       "       'COSMETICS AND TOILETRIES                          ',\n",
       "       'ESSENTIAL OILS                                    ',\n",
       "       'INORGANIC CHEMICALS                               ',\n",
       "       'ORGANIC CHEMICALS                                 ',\n",
       "       'OTHER MISCELLAENIOUS CHEMICALS                    ',\n",
       "       'PAINT, VARNISH AND ALLID PRODC                    ',\n",
       "       'RESIDUL CHEMICL AND ALLED PROD                    ',\n",
       "       'AC, REFRIGERATION MACHNRY ETC                     ',\n",
       "       'AIRCRAFT, SPACECRAFT AND PARTS                    ',\n",
       "       'ALUMINIUM, PRODUCTS OF ALUMINM                    ',\n",
       "       'ATM, INJCTNG MLDING MCHNRY ETC                    ',\n",
       "       'AUTO COMPONENTS/PARTS                             ',\n",
       "       'AUTO TYRES AND TUBES                              ',\n",
       "       'BICYCLE AND PARTS                                 ',\n",
       "       'COPPER AND PRDCTS MADE OF COPR                    ',\n",
       "       'CRANES, LIFTS AND WINCHES                         ',\n",
       "       'ELECTRIC MACHINERY AND EQUIPME                    ',\n",
       "       'HND TOOL, CTTNG TOOL OF METALS                    ',\n",
       "       'IC ENGINES AND PARTS                              ',\n",
       "       'INDL. MACHNRY FOR DAIRY ETC                       ',\n",
       "       'IRON AND STEEL                                    ',\n",
       "       'LEAD AND PRODUCTS MADE OF LED                     ',\n",
       "       'MACHINE TOOLS                                     ',\n",
       "       'MEDICAL AND SCIENTIFIC INSTRUM                    ',\n",
       "       'MOTOR VEHICLE/CARS                                ',\n",
       "       'NICKEL, PRODUCT MADE OF NICKEL                    ',\n",
       "       'NUCLER REACTR, INDL BOILR, PRT                    ',\n",
       "       'OFFICE EQUIPMENTS                                 ',\n",
       "       'OTH NON FEROUS METAL AND PRODC                    ',\n",
       "       'OTHER CONSTRUCTION MACHINERY                      ',\n",
       "       'OTHER MISC. ENGINEERING ITEMS                     ',\n",
       "       'OTHR RUBBER PRODCT EXCPT FOOTW                    ',\n",
       "       'PRIME MICA AND MICA PRODUCTS                      ',\n",
       "       'PRODUCTS OF IRON AND STEEL                        ',\n",
       "       'PROJECT GOODS                                     ',\n",
       "       'PUMPS OF ALL TYPES                                ',\n",
       "       'RAILWY TRNSPRT EQUIPMNTS, PRTS                    ',\n",
       "       'SHIP, BOAT AND FLOATING STRUCT                    ',\n",
       "       'TIN AND PRODUCTS MADE OF TIN                      ',\n",
       "       'TWO AND THREE WHEELERS                            ',\n",
       "       'ZINC AND PRODUCTS MADE OF ZINC                    ',\n",
       "       'ACCUMULATORS AND BATTERIES                        ',\n",
       "       'COMPUTER HARDWARE, PERIPHERALS                    ',\n",
       "       'CONSUMER ELECTRONICS                              ',\n",
       "       'ELECTRODES                                        ',\n",
       "       'ELECTRONICS COMPONENTS                            ',\n",
       "       'ELECTRONICS INSTRUMENTS                           ',\n",
       "       'TELECOM INSTRUMENTS                               ',\n",
       "       'COTTON FABRICS, MADEUPS ETC.                      ',\n",
       "       'COTTON YARN                                       ',\n",
       "       'HANDLOOM PRODUCTS                                 ',\n",
       "       'MANMADE STAPLE FIBRE                              ',\n",
       "       'OTH TXTL YRN, FBRIC MDUP ARTCL                    ',\n",
       "       'MANMADE YARN,FABRICS,MADEUPS                      ',\n",
       "       'RMG COTTON INCL ACCESSORIES                       ',\n",
       "       'RMG MANMADE FIBRES                                ',\n",
       "       'RMG OF OTHR TEXTLE MATRL                          ',\n",
       "       'RMG SILK                                          ',\n",
       "       'RMG WOOL                                          ',\n",
       "       'FLOOR CVRNG OF JUTE                               ',\n",
       "       'JUTE HESSIAN                                      ',\n",
       "       'JUTE YARN                                         ',\n",
       "       'OTHER JUTE MANUFACTURES                           ',\n",
       "       'CARPET(EXCL. SILK) HANDMADE                       ',\n",
       "       'SILK CARPET                                       ',\n",
       "       'HANDCRFS(EXCL.HANDMADE CRPTS)                     ',\n",
       "       'PETROLEUM PRODUCTS                                ',\n",
       "       'MOULDED AND EXTRUDED GOODS                        ',\n",
       "       'OTHER PLASTIC ITEMS                               ',\n",
       "       'PACKAGING MATERIALS                               ',\n",
       "       'PLASTC SHT, FILM, PLTS ETC                        ',\n",
       "       'PLASTIC RAW MATERIALS                             ',\n",
       "       'STATIONRY/OFFCE, SCHOOL SUPPLY                    ',\n",
       "       'ALCOHOLIC BEVERAGES                               ',\n",
       "       'ALL TYPES OF OPTICAL ITEMS (INCL OPTICAL FRAMES, L',\n",
       "       'BOOKS, PUBLICATIONS AND PRINTING                  ',\n",
       "       'CASHEW NUT SHELL LIQUID                           ',\n",
       "       'CASTOR OIL                                        ',\n",
       "       'CEMENT, CLINKERS AND ASBESTOS CEMENT PRODUCTS     ',\n",
       "       'COIR AND COIR MANUFACTURES                        ',\n",
       "       'COTTON RAW INCLD. WASTE                           ',\n",
       "       'DYE INTERMEDIATES                                 ',\n",
       "       'DYES                                              ',\n",
       "       'FERTILEZERS CRUDE                                 ',\n",
       "       'FERTILEZERS MANUFACTURED                          ',\n",
       "       'FLORICLTR PRODUCTS                                ',\n",
       "       'FOOTWEAR OF RUBBER/CANVAS ETC.                    ',\n",
       "       'FRUITS / VEGETABLE SEEDS                          ',\n",
       "       'GRAPHITE, EXPLOSIVES AND ACCESSORIES              ',\n",
       "       'GUERGAM MEAL                                      ',\n",
       "       'HUMAN HAIR AND PRODUCTS THEREOF                   ',\n",
       "       'JUTE, RAW                                         ',\n",
       "       'MOLLASES                                          ',\n",
       "       'NATRL SILK YARN,FABRICS,MADEUP                    ',\n",
       "       'NATURAL RUBBER                                    ',\n",
       "       'NEWSPRINT                                         ',\n",
       "       'OTHER COMMODITIES                                 ',\n",
       "       'OTHER WOOD AND WOOD PRODUCTS                      ',\n",
       "       'PAPER, PAPER BOARD AND PRODUCTS                   ',\n",
       "       'PLYWOOD AND ALLIED PRODUCTS                       ',\n",
       "       'PULP AND WASTE PAPER                              ',\n",
       "       'PULSES                                            ',\n",
       "       'RAW HIDES AND SKINS                               ',\n",
       "       'SADDLERY AND HARNESS                              ',\n",
       "       'SHELLAC                                           ',\n",
       "       'SILK WASTE                                        ',\n",
       "       'SILK,RAW                                          ',\n",
       "       'SPORTS GOODS                                      ',\n",
       "       'SUGAR                                             ',\n",
       "       'VEGETABLE OILS                                    ',\n",
       "       'WHEAT                                             ',\n",
       "       'WOLLEN YARN,FABRICS,MADEUPSETC                    ',\n",
       "       'WOOL, RAW                                         '], dtype=object)"
      ]
     },
     "execution_count": 14,
     "metadata": {},
     "output_type": "execute_result"
    }
   ],
   "source": [
    "df['Commodity'].unique()"
   ]
  },
  {
   "cell_type": "code",
   "execution_count": 15,
   "id": "b72321d1-444f-4f47-a4e3-89d0aeac9f04",
   "metadata": {},
   "outputs": [],
   "source": [
    "#Removing trailing whitespaces from some values\n",
    "df['Commodity'] = df['Commodity'].str.strip()"
   ]
  },
  {
   "cell_type": "code",
   "execution_count": 16,
   "id": "3e9b2d6b-0649-47d1-bf39-521b09294ce2",
   "metadata": {},
   "outputs": [
    {
     "data": {
      "text/plain": [
       "array(['TEA', 'COFFEE', 'RICE -BASMOTI', 'RICE(OTHER THAN BASMOTI)',\n",
       "       'WHEAT', 'OTHER CEREALS', 'PULSES', 'TOBACCO UNMANUFACTURED',\n",
       "       'TOBACCO MANUFACTURED', 'SPICES', 'CASHEW',\n",
       "       'CASHEW NUT SHELL LIQUID', 'SESAME SEEDS', 'NIGER SEEDS',\n",
       "       'GROUNDNUT', 'OTHER OIL SEEDS', 'VEGETABLE OILS', 'OIL MEALS',\n",
       "       'GUERGAM MEAL', 'CASTOR OIL', 'SHELLAC', 'SUGAR', 'MOLLASES',\n",
       "       'FRUITS / VEGETABLE SEEDS', 'FRESH FRUITS', 'FRESH VEGETABLES',\n",
       "       'PROCESSED VEGETABLES', 'PROCESSED FRUITS AND JUICES',\n",
       "       'CEREAL PREPARATIONS', 'COCOA PRODUCTS', 'MILLED PRODUCTS',\n",
       "       'MISC PROCESSED ITEMS', 'ANIMAL CASINGS', 'BUFFALO MEAT',\n",
       "       'SHEEP/GOAT MEAT', 'OTHER MEAT', 'PROCESSED MEAT',\n",
       "       'DAIRY PRODUCTS', 'POULTRY PRODUCTS', 'FLORICLTR PRODUCTS',\n",
       "       'NATURAL RUBBER', 'ALCOHOLIC BEVERAGES', 'MARINE PRODUCTS',\n",
       "       'IRON ORE', 'MICA', 'COAL,COKE AND BRIQUITTES ETC',\n",
       "       'BULK MINERALS AND ORES', 'GRANIT, NATRL STONE AND PRODCT',\n",
       "       'PROCESSED MINERALS', 'SULPHER, UNROASTED IRON PYRITE',\n",
       "       'OTHER CRUDE MINERALS', 'RAW HIDES AND SKINS', 'FINISHED LEATHER',\n",
       "       'LEATHER GOODS', 'LEATHER GARMENTS', 'FOOTWEAR OF LEATHER',\n",
       "       'LEATHER FOOTWEAR COMPONENT', 'SADDLERY AND HARNESS',\n",
       "       'PEARL, PRECS, SEMIPRECS STONES', 'GOLD', 'SILVER',\n",
       "       'OTHER PRECIOUS AND BASE METALS', 'GOLD AND OTH PRECS METL JWLERY',\n",
       "       'SPORTS GOODS', 'FERTILEZERS CRUDE', 'FERTILEZERS MANUFACTURED',\n",
       "       'AYUSH AND HERBAL PRODUCTS', 'BULK DRUGS, DRUG INTERMEDIATES',\n",
       "       'DYE INTERMEDIATES', 'DYES', 'DRUG FORMULATIONS, BIOLOGICALS',\n",
       "       'AGRO CHEMICALS', 'SURGICALS', 'INORGANIC CHEMICALS',\n",
       "       'ORGANIC CHEMICALS', 'OTHER MISCELLAENIOUS CHEMICALS',\n",
       "       'COSMETICS AND TOILETRIES', 'ESSENTIAL OILS',\n",
       "       'RESIDUL CHEMICL AND ALLED PROD', 'AUTO TYRES AND TUBES',\n",
       "       'OTHR RUBBER PRODCT EXCPT FOOTW', 'FOOTWEAR OF RUBBER/CANVAS ETC.',\n",
       "       'PAINT, VARNISH AND ALLID PRODC', 'GRAPHITE, EXPLSIVS AND ACCESOR',\n",
       "       'CMNT, CLINKR AND ASBSTOS CMNT', 'CERAMICS AND ALLIED PRODUCTS',\n",
       "       'GLASS AND GLASSWARE', 'BOOKS, PUBLICATIONS AND PRNTNG',\n",
       "       'NEWSPRINT', 'PAPER, PAPER BOARD AND PRODUCT',\n",
       "       'PLYWOOD AND ALLIED PRODUCTS', 'OTHER WOOD AND WOOD PRODUCTS',\n",
       "       'PULP AND WASTE PAPER', 'OPTICAL ITEMS (INCL.LENS ETC)',\n",
       "       'HUMAN HAIR, PRODUCTS THEREO', 'MOULDED AND EXTRUDED GOODS',\n",
       "       'PACKAGING MATERIALS', 'PLASTIC RAW MATERIALS',\n",
       "       'PLASTC SHT, FILM, PLTS ETC', 'STATIONRY/OFFCE, SCHOOL SUPPLY',\n",
       "       'OTHER PLASTIC ITEMS', 'IRON AND STEEL',\n",
       "       'PRODUCTS OF IRON AND STEEL', 'ALUMINIUM, PRODUCTS OF ALUMINM',\n",
       "       'COPPER AND PRDCTS MADE OF COPR', 'LEAD AND PRODUCTS MADE OF LED',\n",
       "       'NICKEL, PRODUCT MADE OF NICKEL', 'TIN AND PRODUCTS MADE OF TIN',\n",
       "       'ZINC AND PRODUCTS MADE OF ZINC', 'OTH NON FEROUS METAL AND PRODC',\n",
       "       'AUTO COMPONENTS/PARTS', 'ELECTRODES',\n",
       "       'ACCUMULATORS AND BATTERIES', 'HND TOOL, CTTNG TOOL OF METALS',\n",
       "       'MACHINE TOOLS', 'MEDICAL AND SCIENTIFIC INSTRUM',\n",
       "       'OFFICE EQUIPMENTS', 'AC, REFRIGERATION MACHNRY ETC',\n",
       "       'BICYCLE AND PARTS', 'CRANES, LIFTS AND WINCHES',\n",
       "       'ELECTRIC MACHINERY AND EQUIPME', 'IC ENGINES AND PARTS',\n",
       "       'INDL. MACHNRY FOR DAIRY ETC', 'ATM, INJCTNG MLDING MCHNRY ETC',\n",
       "       'NUCLER REACTR, INDL BOILR, PRT', 'OTHER CONSTRUCTION MACHINERY',\n",
       "       'OTHER MISC. ENGINEERING ITEMS', 'PRIME MICA AND MICA PRODUCTS',\n",
       "       'PUMPS OF ALL TYPES', 'AIRCRAFT, SPACECRAFT AND PARTS',\n",
       "       'MOTOR VEHICLE/CARS', 'RAILWY TRNSPRT EQUIPMNTS, PRTS',\n",
       "       'SHIP, BOAT AND FLOATING STRUCT', 'TWO AND THREE WHEELERS',\n",
       "       'COMPUTER HARDWARE, PERIPHERALS', 'CONSUMER ELECTRONICS',\n",
       "       'ELECTRONICS COMPONENTS', 'ELECTRONICS INSTRUMENTS',\n",
       "       'TELECOM INSTRUMENTS', 'PROJECT GOODS', 'MANMADE STAPLE FIBRE',\n",
       "       'COTTON YARN', 'COTTON FABRICS, MADEUPS ETC.',\n",
       "       'OTH TXTL YRN, FBRIC MDUP ARTCL', 'NATRL SILK YARN,FABRICS,MADEUP',\n",
       "       'MANMADE YARN,FABRICS,MADEUPS', 'WOOL, RAW',\n",
       "       'WOLLEN YARN,FABRICS,MADEUPSETC', 'RMG COTTON INCL ACCESSORIES',\n",
       "       'RMG SILK', 'RMG MANMADE FIBRES', 'RMG WOOL',\n",
       "       'RMG OF OTHR TEXTLE MATRL', 'COIR AND COIR MANUFACTURES',\n",
       "       'HANDLOOM PRODUCTS', 'SILK WASTE', 'JUTE, RAW', 'JUTE YARN',\n",
       "       'JUTE HESSIAN', 'FLOOR CVRNG OF JUTE', 'OTHER JUTE MANUFACTURES',\n",
       "       'HANDCRFS(EXCL.HANDMADE CRPTS)', 'CARPET(EXCL. SILK) HANDMADE',\n",
       "       'SILK CARPET', 'COTTON RAW INCLD. WASTE', 'PETROLEUM PRODUCTS',\n",
       "       'OTHER COMMODITIES', 'SILK,RAW', 'RICE BASMOTI',\n",
       "       'ALL TYPES OF OPTICAL ITEMS (INCL OPTICAL FRAMES, L',\n",
       "       'BOOKS, PUBLICATIONS AND PRINTING',\n",
       "       'CEMENT, CLINKERS AND ASBESTOS CEMENT PRODUCTS',\n",
       "       'GRAPHITE, EXPLOSIVES AND ACCESSORIES',\n",
       "       'HUMAN HAIR AND PRODUCTS THEREOF',\n",
       "       'PAPER, PAPER BOARD AND PRODUCTS'], dtype=object)"
      ]
     },
     "execution_count": 16,
     "metadata": {},
     "output_type": "execute_result"
    }
   ],
   "source": [
    "df['Commodity'].unique()"
   ]
  },
  {
   "cell_type": "code",
   "execution_count": 17,
   "id": "d6144cf0-611a-4fd4-b5b5-95c447c0e6aa",
   "metadata": {},
   "outputs": [
    {
     "data": {
      "text/plain": [
       "array(['AFGHANISTAN', 'ALBANIA', 'ALGERIA', 'ANDORRA', 'ANGOLA',\n",
       "       'ARGENTINA', 'ARMENIA', 'AUSTRALIA', 'AUSTRIA', 'AZERBAIJAN',\n",
       "       'BAHARAIN IS', 'BANGLADESH PR', 'BARBADOS', 'BELARUS', 'BELGIUM',\n",
       "       'BENIN', 'BHUTAN', 'BOTSWANA', 'BRAZIL', 'BRUNEI', 'BULGARIA',\n",
       "       'BURKINA FASO', 'CAMBODIA', 'CAMEROON', 'CANADA', 'CAYMAN IS',\n",
       "       'CHAD', 'CHILE', 'CHINA P RP', 'COLOMBIA', 'CONGO D. REP.',\n",
       "       'CONGO P REP', 'COSTA RICA', \"COTE D' IVOIRE\", 'CROATIA', 'CYPRUS',\n",
       "       'CZECH REPUBLIC', 'DENMARK', 'DOMINIC REP', 'ECUADOR',\n",
       "       'EGYPT A RP', 'ESTONIA', 'ETHIOPIA', 'FIJI IS', 'FINLAND',\n",
       "       'FRANCE', 'GABON', 'GAMBIA', 'GEORGIA', 'GERMANY', 'GHANA',\n",
       "       'GREECE', 'GUADELOUPE', 'GUATEMALA', 'GUINEA', 'GUINEA BISSAU',\n",
       "       'GUYANA', 'HAITI', 'HONG KONG', 'HUNGARY', 'INDONESIA', 'IRAN',\n",
       "       'IRAQ', 'IRELAND', 'ISRAEL', 'ITALY', 'JAMAICA', 'JAPAN', 'JORDAN',\n",
       "       'KAZAKHSTAN', 'KENYA', 'KOREA DP RP', 'KOREA RP', 'KUWAIT',\n",
       "       'KYRGHYZSTAN', 'LAO PD RP', 'LATVIA', 'LEBANON', 'LIBERIA',\n",
       "       'LIBYA', 'LITHUANIA', 'MACAO', 'MADAGASCAR', 'MALAWI', 'MALAYSIA',\n",
       "       'MALDIVES', 'MALI', 'MALTA', 'MAURITIUS', 'MEXICO', 'MOLDOVA',\n",
       "       'MONGOLIA', 'MOROCCO', 'MOZAMBIQUE', 'MYANMAR', 'NEPAL',\n",
       "       'NETHERLAND', 'NETHERLANDANTIL', 'NEW ZEALAND', 'NIGER', 'NIGERIA',\n",
       "       'NORWAY', 'OMAN', 'PAKISTAN IR', 'PANAMA REPUBLIC', 'PAPUA N GNA',\n",
       "       'PARAGUAY', 'PERU', 'PHILIPPINES', 'POLAND', 'PORTUGAL',\n",
       "       'PUERTO RICO', 'QATAR', 'REUNION', 'ROMANIA', 'RUSSIA', 'RWANDA',\n",
       "       'SAUDI ARAB', 'SENEGAL', 'SERBIA', 'SEYCHELLES', 'SIERRA LEONE',\n",
       "       'SINGAPORE', 'SLOVAK REP', 'SLOVENIA', 'SOMALIA', 'SOUTH AFRICA',\n",
       "       'SOUTH SUDAN', 'SPAIN', 'SRI LANKA DSR', 'ST KITT N A', 'SUDAN',\n",
       "       'SURINAME', 'SWAZILAND', 'SWEDEN', 'SWITZERLAND', 'SYRIA',\n",
       "       'TAIWAN', 'TAJIKISTAN', 'TANZANIA REP', 'THAILAND', 'TOGO',\n",
       "       'TRINIDAD', 'TUNISIA', 'TURKEY', 'TURKMENISTAN', 'U ARAB EMTS',\n",
       "       'U K', 'U S A', 'UGANDA', 'UKRAINE', 'UZBEKISTAN', 'VENEZUELA',\n",
       "       'VIETNAM SOC REP', 'YEMEN REPUBLC', 'ZAMBIA', 'CAPE VERDE IS',\n",
       "       'FR POLYNESIA', 'MAURITANIA', 'MONTENEGRO', 'NEW CALEDONIA',\n",
       "       'C AFRI REP', 'COMOROS', 'DJIBOUTI', 'EQUTL GUINEA', 'MARTINIQUE',\n",
       "       'NAMIBIA', 'UNSPECIFIED', 'URUGUAY', 'ZIMBABWE', 'BOSNIA-HRZGOVIN',\n",
       "       'BURUNDI', 'ERITREA', 'GUAM', 'LESOTHO', 'SAO TOME', 'BELIZE',\n",
       "       'HONDURAS', 'NORFOLK IS', 'ARUBA', 'BOLIVIA', 'GRENADA',\n",
       "       'NAURU RP', 'ST LUCIA', 'TONGA', 'BAHAMAS', 'BR VIRGN IS',\n",
       "       'COOK IS', 'CUBA', 'EL SALVADOR', 'ICELAND', 'KIRIBATI REP',\n",
       "       'LUXEMBOURG', 'MACEDONIA', 'NICARAGUA', 'SAMOA', 'SOLOMON IS',\n",
       "       'TIMOR-LESTE', 'DOMINICA', 'AMERI SAMOA', 'MONACO', 'ST HELENA',\n",
       "       'US MINOR OUTLYING ISLANDS', 'MARSHALL ISLAND',\n",
       "       'STATE OF PALESTINE', 'VANUATU REP', 'CURACAO', 'ST VINCENT',\n",
       "       'ANTIGUA', 'FR GUIANA', 'ANGUILLA', 'BERMUDA', 'LIECHTENSTEIN',\n",
       "       'N. MARIANA IS.', 'MICRONESIA', 'VATICAN CITY', 'GIBRALTAR',\n",
       "       'MAYOTTE', 'SAN MARINO', 'VIRGIN IS US', 'ST PIERRE', 'GUERNSEY',\n",
       "       'PANAMA C Z', 'SINT MAARTEN (DUTCH PART)', 'TURKS C IS', 'PALAU',\n",
       "       'WALLIS F IS', 'MONTSERRAT', 'TUVALU', 'PITCAIRN IS.',\n",
       "       'SAHARWI A.DM RP', 'FAROE IS.', 'GREENLAND', 'SERBIA MONTNGRO',\n",
       "       'JERSEY', 'ANTARTICA', 'HEARD MACDONALD',\n",
       "       'INSTALLATIONS IN INTERNATIONAL WATERS', 'TOKELAU IS',\n",
       "       'FALKLAND IS', 'SVALLBARD AND JAN MAYEN', 'CHRISTMAS IS.',\n",
       "       'NIUE IS', 'PACIFIC IS', 'BRITISH INDIAN OCEAN TERRITORY',\n",
       "       'COCOS IS'], dtype=object)"
      ]
     },
     "execution_count": 17,
     "metadata": {},
     "output_type": "execute_result"
    }
   ],
   "source": [
    "df['Country'].unique()"
   ]
  },
  {
   "cell_type": "code",
   "execution_count": 18,
   "id": "af9cebc8-d334-47df-bdb7-f14bd8955026",
   "metadata": {},
   "outputs": [
    {
     "name": "stdout",
     "output_type": "stream",
     "text": [
      "Unique Unit values: ['KGS' 'TON' 'N .A' 'LTR' 'NOS' 'SQM' nan]\n",
      "Empty DataFrame\n",
      "Columns: [Commodity, Country, Unit, Quantity, Value_USD_Million, Fiscal_Year]\n",
      "Index: []\n",
      "No. of records having \"N .A\" values: 11477\n",
      "No. of records having NaN values: 46299\n",
      "Total percentage of records having either missing or nan Unit values: 50.66%\n"
     ]
    }
   ],
   "source": [
    "print(f'Unique Unit values: {df['Unit'].unique()}')\n",
    "\n",
    "print(df[(df['Unit'] == \"N .A\") & (df['Fiscal_Year'] != \"2017-18\")])\n",
    "#This confirms that only records for the year 2017-18 has N.A values, Though I will not be removing rows based on Unit as I am not considering it as a primary feature\n",
    "\n",
    "#Some more insights, Calculating missing and nan Unit values\n",
    "missingUnit = df['Unit'].value_counts()['N .A']\n",
    "nanUnit = df['Unit'].isna().sum()\n",
    "\n",
    "print(f'No. of records having \"N .A\" values: {missingUnit}')\n",
    "print(f'No. of records having NaN values: {nanUnit}')\n",
    "print(f'Total percentage of records having either missing or nan Unit values: {(missingUnit + nanUnit)/len(df)*100:.2f}%')"
   ]
  },
  {
   "cell_type": "code",
   "execution_count": 19,
   "id": "af6fcd75-0d1a-4de9-a7d0-5e93b8dd7881",
   "metadata": {},
   "outputs": [
    {
     "name": "stdout",
     "output_type": "stream",
     "text": [
      "Quantity\n",
      "0.0        6033\n",
      "1.0        1226\n",
      "2.0         748\n",
      "3.0         471\n",
      "5.0         429\n",
      "           ... \n",
      "3572.0        1\n",
      "10911.0       1\n",
      "6953.0        1\n",
      "17273.0       1\n",
      "4049.0        1\n",
      "Name: count, Length: 36404, dtype: int64\n",
      "Count of NaN values : 46268\n"
     ]
    }
   ],
   "source": [
    "print(df['Quantity'].value_counts())\n",
    "print(f'Count of NaN values : {df['Quantity'].isna().sum()}')\n",
    "#Not considering 0.0 as missing values as it could simply mean that that commodity was not exported "
   ]
  },
  {
   "cell_type": "code",
   "execution_count": 20,
   "id": "f73025f1-c78d-4c54-92f6-d21947c047d1",
   "metadata": {},
   "outputs": [
    {
     "name": "stdout",
     "output_type": "stream",
     "text": [
      "Value_USD_Million\n",
      "0.000     19225\n",
      "0.010      5846\n",
      "0.020      3308\n",
      "0.030      2476\n",
      "0.040      1953\n",
      "          ...  \n",
      "5.982         1\n",
      "5.163         1\n",
      "5.601         1\n",
      "1.044         1\n",
      "86.480        1\n",
      "Name: count, Length: 14770, dtype: int64\n"
     ]
    }
   ],
   "source": [
    "print(df['Value_USD_Million'].value_counts())\n",
    "#Again NOT considering 0.0 values as missing"
   ]
  },
  {
   "cell_type": "code",
   "execution_count": 21,
   "id": "52480cdd-99d5-4917-9ad7-b03c618046f5",
   "metadata": {},
   "outputs": [
    {
     "data": {
      "text/plain": [
       "Commodity                0\n",
       "Country                  0\n",
       "Unit                 46299\n",
       "Quantity             46268\n",
       "Value_USD_Million        0\n",
       "Fiscal_Year              0\n",
       "dtype: int64"
      ]
     },
     "execution_count": 21,
     "metadata": {},
     "output_type": "execute_result"
    }
   ],
   "source": [
    "df.isna().sum()"
   ]
  },
  {
   "cell_type": "code",
   "execution_count": 22,
   "id": "95d2e41b-2df3-432e-bcc7-79e114b66616",
   "metadata": {},
   "outputs": [
    {
     "name": "stdout",
     "output_type": "stream",
     "text": [
      "After replacing NaN with 0 in Quantity: Empty DataFrame\n",
      "Columns: [Commodity, Country, Unit, Quantity, Value_USD_Million, Fiscal_Year]\n",
      "Index: []\n"
     ]
    }
   ],
   "source": [
    "#Cheking for records where Quantity is NaN and Value is 0, if so, replacing those Quantity NaN value with 0.0 to consider it as nto exported\n",
    "df[(df['Quantity'].isna()) & (df['Value_USD_Million'] == 0.0)]\n",
    "\n",
    "df.loc[(df['Quantity'].isna()) & (df['Value_USD_Million'] == 0.0), 'Quantity'] = 0.0\n",
    "\n",
    "print(f'After replacing NaN with 0 in Quantity: {df[(df['Quantity'].isna()) & (df['Value_USD_Million'] == 0.0)]}')"
   ]
  },
  {
   "cell_type": "code",
   "execution_count": 23,
   "id": "36513364-bf30-4960-a721-80a20cbaa3af",
   "metadata": {},
   "outputs": [
    {
     "data": {
      "text/plain": [
       "Commodity                0\n",
       "Country                  0\n",
       "Unit                 46299\n",
       "Quantity             38616\n",
       "Value_USD_Million        0\n",
       "Fiscal_Year              0\n",
       "dtype: int64"
      ]
     },
     "execution_count": 23,
     "metadata": {},
     "output_type": "execute_result"
    }
   ],
   "source": [
    "#Current NaN values\n",
    "df.isna().sum()"
   ]
  },
  {
   "cell_type": "code",
   "execution_count": 24,
   "id": "e86b9a38-6427-4b1c-9c91-1d8cd05f460b",
   "metadata": {},
   "outputs": [
    {
     "name": "stdout",
     "output_type": "stream",
     "text": [
      "We will lose 33.86% of the total data\n"
     ]
    }
   ],
   "source": [
    "print(f'We will lose {df['Quantity'].isna().sum()/len(df)*100:.2f}% of the total data')"
   ]
  },
  {
   "cell_type": "code",
   "execution_count": 25,
   "id": "310015cc-b972-4760-8c6b-abc72d61a57d",
   "metadata": {},
   "outputs": [
    {
     "name": "stdout",
     "output_type": "stream",
     "text": [
      "  Commodity      Country Unit  Quantity  Value_USD_Million Fiscal_Year\n",
      "0       TEA  AFGHANISTAN  KGS  996994.0               2.88     2017-18\n",
      "1       TEA      ALBANIA  KGS  250065.0               0.82     2017-18\n",
      "2       TEA      ALGERIA  KGS  109640.0               0.21     2017-18\n",
      "3       TEA      ANDORRA  KGS   32692.0               0.15     2017-18\n",
      "4       TEA       ANGOLA  KGS   11361.0               0.07     2017-18\n",
      "Commodity                0\n",
      "Country                  0\n",
      "Unit                 17521\n",
      "Quantity                 0\n",
      "Value_USD_Million        0\n",
      "Fiscal_Year              0\n",
      "dtype: int64\n"
     ]
    }
   ],
   "source": [
    "df_cleaned = df[~df['Quantity'].isna()]\n",
    "print(df_cleaned.head())\n",
    "print(df_cleaned.isna().sum())"
   ]
  },
  {
   "cell_type": "markdown",
   "id": "d40a8b53-9d0d-45ce-adb5-2984c724bc57",
   "metadata": {},
   "source": [
    "## Cleaned dataframe"
   ]
  },
  {
   "cell_type": "code",
   "execution_count": 26,
   "id": "05023b6b-3a10-4804-8f10-4ef8c566860a",
   "metadata": {},
   "outputs": [
    {
     "data": {
      "text/plain": [
       "(75434, 6)"
      ]
     },
     "execution_count": 26,
     "metadata": {},
     "output_type": "execute_result"
    }
   ],
   "source": [
    "df_cleaned.shape"
   ]
  },
  {
   "cell_type": "code",
   "execution_count": 27,
   "id": "ea7eeede-f4a2-4f58-a0d9-a32a030d9f59",
   "metadata": {},
   "outputs": [],
   "source": [
    "df = df_cleaned.copy()"
   ]
  },
  {
   "cell_type": "code",
   "execution_count": 56,
   "id": "dd2e0cfe-118b-4581-a4ec-6a42e68b5912",
   "metadata": {},
   "outputs": [
    {
     "name": "stdout",
     "output_type": "stream",
     "text": [
      "<class 'pandas.core.frame.DataFrame'>\n",
      "Index: 75434 entries, 0 to 114053\n",
      "Data columns (total 6 columns):\n",
      " #   Column             Non-Null Count  Dtype  \n",
      "---  ------             --------------  -----  \n",
      " 0   Commodity          75434 non-null  object \n",
      " 1   Country            75434 non-null  object \n",
      " 2   Unit               57913 non-null  object \n",
      " 3   Quantity           75434 non-null  float64\n",
      " 4   Value_USD_Million  75434 non-null  float64\n",
      " 5   Fiscal_Year        75434 non-null  object \n",
      "dtypes: float64(2), object(4)\n",
      "memory usage: 4.0+ MB\n"
     ]
    }
   ],
   "source": [
    "df.info()"
   ]
  },
  {
   "cell_type": "code",
   "execution_count": 58,
   "id": "b69f482b-30c9-49d9-881a-723076833719",
   "metadata": {},
   "outputs": [],
   "source": [
    "### Top exported commodity by value"
   ]
  },
  {
   "cell_type": "code",
   "execution_count": 62,
   "id": "2de04884-5e85-492f-ad67-9caa88b927cd",
   "metadata": {},
   "outputs": [
    {
     "data": {
      "text/plain": [
       "<Axes: xlabel='Commodity'>"
      ]
     },
     "execution_count": 62,
     "metadata": {},
     "output_type": "execute_result"
    },
    {
     "data": {
      "image/png": "[encoded data removed]",
      "text/plain": [
       "<Figure size 640x480 with 1 Axes>"
      ]
     },
     "metadata": {},
     "output_type": "display_data"
    }
   ],
   "source": [
    "top_commodities = df.groupby('Commodity')['Value_USD_Million'].sum().sort_values(ascending=False).head(10)\n",
    "top_commodities.plot(kind='bar')"
   ]
  },
  {
   "cell_type": "code",
   "execution_count": null,
   "id": "6ec6da7d-71a5-4f6b-a313-850871e8316a",
   "metadata": {},
   "outputs": [],
   "source": []
  }
 ],
 "metadata": {
  "kernelspec": {
   "display_name": "Python 3 (ipykernel)",
   "language": "python",
   "name": "python3"
  },
  "language_info": {
   "codemirror_mode": {
    "name": "ipython",
    "version": 3
   },
   "file_extension": ".py",
   "mimetype": "text/x-python",
   "name": "python",
   "nbconvert_exporter": "python",
   "pygments_lexer": "ipython3",
   "version": "3.12.4"
  }
 },
 "nbformat": 4,
 "nbformat_minor": 5
}
